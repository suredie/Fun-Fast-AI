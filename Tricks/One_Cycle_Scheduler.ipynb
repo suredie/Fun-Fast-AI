{
 "cells": [
  {
   "attachments": {},
   "cell_type": "markdown",
   "metadata": {},
   "source": [
    "- References:\n",
    "    - `OneCycleScheduler` in paper [Super-Convergence: Very Fast Training of Neural\n",
    "Networks Using Large Learning Rates](https://arxiv.org/abs/1708.07120).\n",
    "    - `fit_one_cylce()` in `Fast AI`. \n",
    "    - [Examples of scheduler in Pytorch on Kaggel](https://www.kaggle.com/residentmario/one-cycle-learning-rate-schedulers![image.png](attachment:image.png))\n",
    "    \n",
    "- Take away techs:\n",
    "    - `Scheduler` in `Pytorch` will initialize the params in optimizer when it is used, so `Scheduler.step()` should be called after `optimizer.step()`."
   ]
  },
  {
   "cell_type": "code",
   "execution_count": 1,
   "metadata": {},
   "outputs": [],
   "source": [
    "%matplotlib inline\n",
    "%load_ext autoreload\n",
    "%autoreload 2"
   ]
  },
  {
   "cell_type": "code",
   "execution_count": 2,
   "metadata": {},
   "outputs": [],
   "source": [
    "import torch\n",
    "from torch import nn\n",
    "import torch.optim as optim\n",
    "import torchvision as tv\n",
    "import torchvision.transforms as transforms\n",
    "from torch.utils.data import TensorDataset, DataLoader, Dataset"
   ]
  },
  {
   "cell_type": "code",
   "execution_count": 3,
   "metadata": {},
   "outputs": [],
   "source": [
    "from sklearn.model_selection import train_test_split\n",
    "from tqdm import tqdm\n",
    "from matplotlib import pyplot as plt\n",
    "import numpy as np"
   ]
  },
  {
   "cell_type": "markdown",
   "metadata": {},
   "source": [
    "### Load CIFAR-10 Dataset"
   ]
  },
  {
   "cell_type": "code",
   "execution_count": 4,
   "metadata": {},
   "outputs": [],
   "source": [
    "transform = transforms.Compose([transforms.ToTensor()])"
   ]
  },
  {
   "cell_type": "code",
   "execution_count": 5,
   "metadata": {},
   "outputs": [],
   "source": [
    "# orig_train_ds = tv.datasets.MNIST(root='data/', train=True, download=True, transform=transform)\n",
    "# orig_test_ds = tv.datasets.MNIST(root='data/', train=False, transform=transform)"
   ]
  },
  {
   "cell_type": "code",
   "execution_count": 6,
   "metadata": {},
   "outputs": [
    {
     "name": "stdout",
     "output_type": "stream",
     "text": [
      "Files already downloaded and verified\n"
     ]
    }
   ],
   "source": [
    "orig_train_ds = tv.datasets.CIFAR10(root='data/', train=True, download=True, transform=transform)\n",
    "orig_test_ds = tv.datasets.CIFAR10(root='data/', train=False, transform=transform)"
   ]
  },
  {
   "cell_type": "code",
   "execution_count": 7,
   "metadata": {},
   "outputs": [],
   "source": [
    "# # Split MNIST Dataset into train and valid\n",
    "# train_x, valid_x, train_y, valid_y = train_test_split(orig_train_ds.data.unsqueeze(1).float(), orig_train_ds.targets, test_size=0.1)"
   ]
  },
  {
   "cell_type": "code",
   "execution_count": 8,
   "metadata": {},
   "outputs": [],
   "source": [
    "# Split CIFAR-10 Dataset into train and valid\n",
    "orig_train_x = torch.from_numpy(orig_train_ds.data.transpose([0,3,1,2])/255.).float()\n",
    "orig_train_y = torch.from_numpy(np.array(orig_train_ds.targets))\n",
    "orig_test_x  = torch.from_numpy(orig_test_ds.data.transpose([0,3,1,2])/255.).float()\n",
    "orig_test_y  = torch.from_numpy(np.array(orig_test_ds.targets))\n",
    "train_x, valid_x, train_y, valid_y = train_test_split(orig_train_x, orig_train_y, test_size=0.1)"
   ]
  },
  {
   "cell_type": "code",
   "execution_count": 9,
   "metadata": {},
   "outputs": [],
   "source": [
    "train_ds = TensorDataset(train_x, train_y)\n",
    "valid_ds = TensorDataset(valid_x, valid_y)\n",
    "test_ds  = TensorDataset(orig_test_x, orig_test_y)\n",
    "# test_ds  = TensorDataset(orig_test_ds.data.unsqueeze(1).float(), orig_test_ds.targets)"
   ]
  },
  {
   "cell_type": "code",
   "execution_count": 10,
   "metadata": {},
   "outputs": [],
   "source": [
    "# Wrap dataset into dataloader\n",
    "bs = 128\n",
    "train_dl = DataLoader(dataset=train_ds, batch_size=bs, shuffle=True, num_workers=8)\n",
    "valid_dl = DataLoader(dataset=valid_ds, batch_size=bs, shuffle=False, num_workers=8)\n",
    "test_dl  = DataLoader(dataset=test_ds,  batch_size=bs, shuffle=False, num_workers=8)"
   ]
  },
  {
   "cell_type": "markdown",
   "metadata": {},
   "source": [
    "### Define model"
   ]
  },
  {
   "cell_type": "code",
   "execution_count": 11,
   "metadata": {},
   "outputs": [],
   "source": [
    "class Flatten(nn.Module):\n",
    "    def __init__(self): super().__init__()\n",
    "    def forward(self, x): return x.view(x.size(0), -1)"
   ]
  },
  {
   "cell_type": "code",
   "execution_count": 12,
   "metadata": {},
   "outputs": [],
   "source": [
    "def getNewModel():\n",
    "    return nn.Sequential(\n",
    "        nn.Conv2d(3, 32, kernel_size=5, stride=2, padding=2, bias=False),\n",
    "        nn.BatchNorm2d(32),\n",
    "        nn.ReLU(),\n",
    "        nn.MaxPool2d(kernel_size=3, stride=2, padding=1),\n",
    "\n",
    "        nn.Conv2d(32, 64, kernel_size=3, stride=2, padding=1, bias=False),\n",
    "        nn.BatchNorm2d(64),\n",
    "        nn.ReLU(),\n",
    "\n",
    "        nn.Conv2d(64, 128, kernel_size=3, stride=2, padding=1, bias=False),\n",
    "        nn.BatchNorm2d(128),\n",
    "        nn.ReLU(),\n",
    "\n",
    "        nn.AdaptiveAvgPool2d((1,1)),\n",
    "        Flatten(),\n",
    "        nn.Linear(in_features=128, out_features=32),\n",
    "        nn.ReLU(),\n",
    "        nn.Dropout(p=0.2),\n",
    "\n",
    "        nn.Linear(32, 10),\n",
    "    )"
   ]
  },
  {
   "cell_type": "code",
   "execution_count": 13,
   "metadata": {},
   "outputs": [],
   "source": [
    "def trainCharRecog(model, train_loader, optimizer, criterion, lr_list=None, mom_list=None, scheduler=None):\n",
    "    model.train()\n",
    "    train_loss = 0.\n",
    "    total = 0.\n",
    "    char_correct = 0.\n",
    "    ang_correct = 0.\n",
    "    for batch_idx, (imgs, tchar) in enumerate(train_loader):\n",
    "        if lr_list is not None and mom_list is not None:\n",
    "            setParamForOpt(optimizer, lr=lr_list[batch_idx], mom=mom_list[batch_idx])\n",
    "        \n",
    "        imgs, tchar = imgs.cuda(), tchar.cuda()\n",
    "        schar = model(imgs)\n",
    "        loss = criterion(schar, tchar)\n",
    "        optimizer.zero_grad()\n",
    "        loss.backward()\n",
    "        optimizer.step()\n",
    "        train_loss += loss.item()\n",
    "        \n",
    "        _, char_predict = torch.max(schar.data,1)\n",
    "        \n",
    "        total += tchar.size(0)\n",
    "        char_correct += char_predict.eq(tchar.data).cpu().sum().item()\n",
    "        if scheduler is not None:\n",
    "            scheduler.step()\n",
    "        \n",
    "    return train_loss/batch_idx, char_correct/total"
   ]
  },
  {
   "cell_type": "code",
   "execution_count": 14,
   "metadata": {},
   "outputs": [],
   "source": [
    "def evalCharRecog(model, test_loader, criterion):\n",
    "    model.eval()\n",
    "    valid_loss = 0.\n",
    "    total = 0.\n",
    "    char_correct = 0.\n",
    "    ang_correct = 0.\n",
    "    with torch.no_grad():\n",
    "        for batch_idx, (imgs, tchar) in enumerate(test_loader):\n",
    "            imgs, tchar = imgs.cuda(), tchar.cuda()\n",
    "            schar = model(imgs)\n",
    "            loss = criterion(schar, tchar)\n",
    "            valid_loss += loss.item()\n",
    "\n",
    "            _, char_predict = torch.max(schar.data,1)\n",
    "            total += tchar.size(0)\n",
    "            char_correct += char_predict.eq(tchar.data).cpu().sum().item()\n",
    "    return valid_loss/batch_idx, char_correct/total"
   ]
  },
  {
   "cell_type": "markdown",
   "metadata": {},
   "source": [
    "### Train Models in Fast AI Manner use one-cycle strategy"
   ]
  },
  {
   "cell_type": "code",
   "execution_count": 15,
   "metadata": {},
   "outputs": [],
   "source": [
    "import os\n",
    "import sys\n",
    "sys.path.append(os.environ.get(\"FASTAI_PATH\"))"
   ]
  },
  {
   "cell_type": "code",
   "execution_count": 16,
   "metadata": {},
   "outputs": [],
   "source": [
    "import torch.nn.functional as F"
   ]
  },
  {
   "cell_type": "code",
   "execution_count": 17,
   "metadata": {},
   "outputs": [],
   "source": [
    "from fastai.vision import *\n",
    "from fastai.data.core import DataLoaders\n",
    "from fastai.vision.all import *"
   ]
  },
  {
   "cell_type": "code",
   "execution_count": 18,
   "metadata": {},
   "outputs": [],
   "source": [
    "data = DataLoaders.from_dsets(train_ds, valid_ds).cuda()"
   ]
  },
  {
   "cell_type": "code",
   "execution_count": 19,
   "metadata": {},
   "outputs": [
    {
     "data": {
      "text/plain": [
       "45000"
      ]
     },
     "execution_count": 19,
     "metadata": {},
     "output_type": "execute_result"
    }
   ],
   "source": [
    "len(data.train_ds)"
   ]
  },
  {
   "cell_type": "code",
   "execution_count": 20,
   "metadata": {},
   "outputs": [],
   "source": [
    "model_fastai = getNewModel()\n",
    "criterion = nn.CrossEntropyLoss()"
   ]
  },
  {
   "cell_type": "code",
   "execution_count": 21,
   "metadata": {},
   "outputs": [],
   "source": [
    "def opt_func(ps, lr): return OptimWrapper(optim.SGD(ps, lr=lr, momentum=0.9, weight_decay=1E-4))"
   ]
  },
  {
   "cell_type": "code",
   "execution_count": 22,
   "metadata": {},
   "outputs": [],
   "source": [
    "learn = Learner(data, model_fastai, loss_func=criterion, opt_func=opt_func, metrics=accuracy) #F.cross_entropy"
   ]
  },
  {
   "cell_type": "code",
   "execution_count": 23,
   "metadata": {},
   "outputs": [
    {
     "data": {
      "text/html": [],
      "text/plain": [
       "<IPython.core.display.HTML object>"
      ]
     },
     "metadata": {},
     "output_type": "display_data"
    },
    {
     "data": {
      "text/plain": [
       "SuggestedLRs(lr_min=0.07585775852203369, lr_steep=0.12022644281387329)"
      ]
     },
     "execution_count": 23,
     "metadata": {},
     "output_type": "execute_result"
    },
    {
     "data": {
      "image/png": "[encoded data removed]",
      "text/plain": [
       "<Figure size 432x288 with 1 Axes>"
      ]
     },
     "metadata": {
      "needs_background": "light"
     },
     "output_type": "display_data"
    }
   ],
   "source": [
    "learn.lr_find()"
   ]
  },
  {
   "cell_type": "code",
   "execution_count": 24,
   "metadata": {},
   "outputs": [
    {
     "data": {
      "text/plain": [
       "[{'lr': 0.001, 'mom': 0.9, 'dampening': 0, 'wd': 0.0001, 'nesterov': False}]"
      ]
     },
     "execution_count": 24,
     "metadata": {},
     "output_type": "execute_result"
    }
   ],
   "source": [
    "learn.opt.hypers"
   ]
  },
  {
   "cell_type": "code",
   "execution_count": 25,
   "metadata": {},
   "outputs": [
    {
     "data": {
      "text/plain": [
       "(0.95, 0.85, 0.95)"
      ]
     },
     "execution_count": 25,
     "metadata": {},
     "output_type": "execute_result"
    }
   ],
   "source": [
    "learn.recorder.moms"
   ]
  },
  {
   "cell_type": "code",
   "execution_count": 26,
   "metadata": {},
   "outputs": [
    {
     "data": {
      "text/html": [
       "<table border=\"1\" class=\"dataframe\">\n",
       "  <thead>\n",
       "    <tr style=\"text-align: left;\">\n",
       "      <th>epoch</th>\n",
       "      <th>train_loss</th>\n",
       "      <th>valid_loss</th>\n",
       "      <th>accuracy</th>\n",
       "      <th>time</th>\n",
       "    </tr>\n",
       "  </thead>\n",
       "  <tbody>\n",
       "    <tr>\n",
       "      <td>0</td>\n",
       "      <td>1.404161</td>\n",
       "      <td>1.814959</td>\n",
       "      <td>0.373400</td>\n",
       "      <td>00:09</td>\n",
       "    </tr>\n",
       "    <tr>\n",
       "      <td>1</td>\n",
       "      <td>1.214754</td>\n",
       "      <td>1.532823</td>\n",
       "      <td>0.467000</td>\n",
       "      <td>00:09</td>\n",
       "    </tr>\n",
       "    <tr>\n",
       "      <td>2</td>\n",
       "      <td>1.050042</td>\n",
       "      <td>1.126524</td>\n",
       "      <td>0.595600</td>\n",
       "      <td>00:10</td>\n",
       "    </tr>\n",
       "    <tr>\n",
       "      <td>3</td>\n",
       "      <td>1.011254</td>\n",
       "      <td>1.077373</td>\n",
       "      <td>0.616600</td>\n",
       "      <td>00:09</td>\n",
       "    </tr>\n",
       "    <tr>\n",
       "      <td>4</td>\n",
       "      <td>0.946479</td>\n",
       "      <td>1.041593</td>\n",
       "      <td>0.633200</td>\n",
       "      <td>00:09</td>\n",
       "    </tr>\n",
       "    <tr>\n",
       "      <td>5</td>\n",
       "      <td>0.838020</td>\n",
       "      <td>1.043868</td>\n",
       "      <td>0.649200</td>\n",
       "      <td>00:09</td>\n",
       "    </tr>\n",
       "    <tr>\n",
       "      <td>6</td>\n",
       "      <td>0.820052</td>\n",
       "      <td>1.056161</td>\n",
       "      <td>0.651600</td>\n",
       "      <td>00:09</td>\n",
       "    </tr>\n",
       "    <tr>\n",
       "      <td>7</td>\n",
       "      <td>0.782668</td>\n",
       "      <td>0.867545</td>\n",
       "      <td>0.704400</td>\n",
       "      <td>00:09</td>\n",
       "    </tr>\n",
       "    <tr>\n",
       "      <td>8</td>\n",
       "      <td>0.762623</td>\n",
       "      <td>0.819893</td>\n",
       "      <td>0.719000</td>\n",
       "      <td>00:10</td>\n",
       "    </tr>\n",
       "    <tr>\n",
       "      <td>9</td>\n",
       "      <td>0.702591</td>\n",
       "      <td>1.006001</td>\n",
       "      <td>0.663400</td>\n",
       "      <td>00:09</td>\n",
       "    </tr>\n",
       "    <tr>\n",
       "      <td>10</td>\n",
       "      <td>0.674091</td>\n",
       "      <td>0.879874</td>\n",
       "      <td>0.699600</td>\n",
       "      <td>00:10</td>\n",
       "    </tr>\n",
       "    <tr>\n",
       "      <td>11</td>\n",
       "      <td>0.611926</td>\n",
       "      <td>1.087230</td>\n",
       "      <td>0.659400</td>\n",
       "      <td>00:09</td>\n",
       "    </tr>\n",
       "    <tr>\n",
       "      <td>12</td>\n",
       "      <td>0.546965</td>\n",
       "      <td>0.971723</td>\n",
       "      <td>0.690400</td>\n",
       "      <td>00:09</td>\n",
       "    </tr>\n",
       "    <tr>\n",
       "      <td>13</td>\n",
       "      <td>0.515413</td>\n",
       "      <td>0.881027</td>\n",
       "      <td>0.714400</td>\n",
       "      <td>00:09</td>\n",
       "    </tr>\n",
       "    <tr>\n",
       "      <td>14</td>\n",
       "      <td>0.490201</td>\n",
       "      <td>0.864624</td>\n",
       "      <td>0.728400</td>\n",
       "      <td>00:10</td>\n",
       "    </tr>\n",
       "    <tr>\n",
       "      <td>15</td>\n",
       "      <td>0.396226</td>\n",
       "      <td>0.879779</td>\n",
       "      <td>0.732800</td>\n",
       "      <td>00:09</td>\n",
       "    </tr>\n",
       "    <tr>\n",
       "      <td>16</td>\n",
       "      <td>0.342877</td>\n",
       "      <td>0.835887</td>\n",
       "      <td>0.748800</td>\n",
       "      <td>00:09</td>\n",
       "    </tr>\n",
       "    <tr>\n",
       "      <td>17</td>\n",
       "      <td>0.271402</td>\n",
       "      <td>0.851002</td>\n",
       "      <td>0.755200</td>\n",
       "      <td>00:09</td>\n",
       "    </tr>\n",
       "    <tr>\n",
       "      <td>18</td>\n",
       "      <td>0.241785</td>\n",
       "      <td>0.865402</td>\n",
       "      <td>0.757200</td>\n",
       "      <td>00:09</td>\n",
       "    </tr>\n",
       "    <tr>\n",
       "      <td>19</td>\n",
       "      <td>0.202151</td>\n",
       "      <td>0.866337</td>\n",
       "      <td>0.757800</td>\n",
       "      <td>00:09</td>\n",
       "    </tr>\n",
       "  </tbody>\n",
       "</table>"
      ],
      "text/plain": [
       "<IPython.core.display.HTML object>"
      ]
     },
     "metadata": {},
     "output_type": "display_data"
    }
   ],
   "source": [
    "learn.fit_one_cycle(20, lr_max=0.1)"
   ]
  },
  {
   "cell_type": "code",
   "execution_count": 27,
   "metadata": {},
   "outputs": [
    {
     "data": {
      "text/plain": [
       "703"
      ]
     },
     "execution_count": 27,
     "metadata": {},
     "output_type": "execute_result"
    }
   ],
   "source": [
    "len(data.train)"
   ]
  },
  {
   "cell_type": "code",
   "execution_count": 28,
   "metadata": {},
   "outputs": [],
   "source": [
    "test_loss, test_acc = evalCharRecog(model_fastai, test_dl, criterion)"
   ]
  },
  {
   "cell_type": "code",
   "execution_count": 29,
   "metadata": {},
   "outputs": [
    {
     "data": {
      "text/plain": [
       "0.755"
      ]
     },
     "execution_count": 29,
     "metadata": {},
     "output_type": "execute_result"
    }
   ],
   "source": [
    "test_acc"
   ]
  },
  {
   "cell_type": "markdown",
   "metadata": {},
   "source": [
    "### One Cycle Implementation \n",
    "\n",
    "- Steps:\n",
    "    - 1. Create the lr list and the momentum list using cosine.\n",
    "    - 2. Create the scheduler object.\n",
    "    - 3. Train classifiers."
   ]
  },
  {
   "cell_type": "code",
   "execution_count": 30,
   "metadata": {},
   "outputs": [],
   "source": [
    "model = getNewModel()\n",
    "model = model.cuda()"
   ]
  },
  {
   "cell_type": "code",
   "execution_count": 31,
   "metadata": {},
   "outputs": [],
   "source": [
    "lr_max = 0.1\n",
    "lr_start = lr_max/25.\n",
    "lr_end = lr_max/1e5\n",
    "mom_min = 0.85\n",
    "mom_start = 0.95\n",
    "mom_end = 0.95"
   ]
  },
  {
   "cell_type": "code",
   "execution_count": 32,
   "metadata": {},
   "outputs": [],
   "source": [
    "n_epochs = 20\n",
    "n_iter_one_epoch = len(train_dl)\n",
    "n_iters = len(train_dl)*n_epochs\n",
    "n_pct = 0.25"
   ]
  },
  {
   "cell_type": "code",
   "execution_count": 33,
   "metadata": {},
   "outputs": [],
   "source": [
    "n_first_half = np.int(n_iters*n_pct)\n",
    "n_second_half = n_iters - n_first_half"
   ]
  },
  {
   "cell_type": "code",
   "execution_count": 34,
   "metadata": {},
   "outputs": [],
   "source": [
    "lr_first_half = (np.cos(np.pi*(1-np.arange(n_first_half)/n_first_half))+1)/2*(lr_max-lr_start)+lr_start\n",
    "lr_second_half = (np.cos(np.pi*(1-np.arange(n_second_half)/n_second_half))+1)/2*(lr_end-lr_max)+lr_max\n",
    "lr_list = np.concatenate([lr_first_half, lr_second_half])\n",
    "\n",
    "mom_first_half = (np.cos(np.pi*(1-np.arange(n_first_half)/n_first_half))+1)/2*(mom_min-mom_start)+mom_start\n",
    "mom_second_half = (np.cos(np.pi*(1-np.arange(n_second_half)/n_second_half))+1)/2*(mom_end-mom_min)+mom_min\n",
    "mom_list = np.concatenate([mom_first_half, mom_second_half])"
   ]
  },
  {
   "cell_type": "code",
   "execution_count": 35,
   "metadata": {},
   "outputs": [],
   "source": [
    "criterion = nn.CrossEntropyLoss()\n",
    "optimizer = optim.SGD(model.parameters(), lr=1E-2, momentum=0.9, weight_decay=1E-4)"
   ]
  },
  {
   "cell_type": "code",
   "execution_count": 36,
   "metadata": {},
   "outputs": [],
   "source": [
    "def setParamForOpt(opt, lr, mom):\n",
    "    for param in opt.param_groups:\n",
    "        param[\"lr\"] = lr\n",
    "        param[\"momentum\"] = mom"
   ]
  },
  {
   "cell_type": "code",
   "execution_count": 37,
   "metadata": {},
   "outputs": [],
   "source": [
    "train_loss_hist = []\n",
    "valid_loss_hist = []\n",
    "train_char_acc_hist = []\n",
    "train_ang_acc_hist = []\n",
    "valid_char_acc_hist = []\n",
    "valid_ang_acc_hist = []\n",
    "# correct = 0\n",
    "# total = 0"
   ]
  },
  {
   "cell_type": "code",
   "execution_count": 38,
   "metadata": {},
   "outputs": [
    {
     "name": "stderr",
     "output_type": "stream",
     "text": [
      "100%|██████████| 20/20 [01:15<00:00,  3.78s/it]\n"
     ]
    }
   ],
   "source": [
    "for epoch in tqdm(range(n_epochs)):\n",
    "    beg_indx = epoch*n_iter_one_epoch\n",
    "    end_indx = (epoch+1)*n_iter_one_epoch\n",
    "    train_loss, train_char_acc = trainCharRecog(model, train_dl, optimizer, criterion, \n",
    "                                                lr_list[beg_indx:end_indx], mom_list[beg_indx:end_indx])\n",
    "    \n",
    "    \n",
    "    \n",
    "    valid_loss, valid_char_acc = evalCharRecog(model, valid_dl, criterion)\n",
    "    \n",
    "    train_loss_hist.append(train_loss)\n",
    "    valid_loss_hist.append(valid_loss)\n",
    "    train_char_acc_hist.append(train_char_acc)\n",
    "    valid_char_acc_hist.append(valid_char_acc)\n",
    "    \n"
   ]
  },
  {
   "cell_type": "code",
   "execution_count": 39,
   "metadata": {},
   "outputs": [],
   "source": [
    "test_loss, test_acc = evalCharRecog(model, test_dl, criterion)"
   ]
  },
  {
   "cell_type": "code",
   "execution_count": 40,
   "metadata": {},
   "outputs": [
    {
     "data": {
      "text/plain": [
       "0.7498"
      ]
     },
     "execution_count": 40,
     "metadata": {},
     "output_type": "execute_result"
    }
   ],
   "source": [
    "test_acc"
   ]
  },
  {
   "cell_type": "code",
   "execution_count": 41,
   "metadata": {},
   "outputs": [
    {
     "data": {
      "text/plain": [
       "<matplotlib.legend.Legend at 0x7fbc48253c10>"
      ]
     },
     "execution_count": 41,
     "metadata": {},
     "output_type": "execute_result"
    },
    {
     "data": {
      "image/png": "[encoded data removed]",
      "text/plain": [
       "<Figure size 432x288 with 1 Axes>"
      ]
     },
     "metadata": {
      "needs_background": "light"
     },
     "output_type": "display_data"
    }
   ],
   "source": [
    "plt.plot(train_loss_hist, label=\"train\")\n",
    "plt.plot(valid_loss_hist, label=\"valid\")\n",
    "plt.legend()"
   ]
  },
  {
   "cell_type": "code",
   "execution_count": 42,
   "metadata": {},
   "outputs": [
    {
     "data": {
      "text/plain": [
       "Text(0, 0.5, 'Acc of Chars')"
      ]
     },
     "execution_count": 42,
     "metadata": {},
     "output_type": "execute_result"
    },
    {
     "data": {
      "image/png": "[encoded data removed]",
      "text/plain": [
       "<Figure size 432x288 with 1 Axes>"
      ]
     },
     "metadata": {
      "needs_background": "light"
     },
     "output_type": "display_data"
    }
   ],
   "source": [
    "plt.plot(train_char_acc_hist, label=\"train\")\n",
    "plt.plot(valid_char_acc_hist, label=\"valid\")\n",
    "plt.legend()\n",
    "plt.xlabel(\"Epochs\")\n",
    "plt.ylabel(\"Acc of Chars\")"
   ]
  },
  {
   "cell_type": "code",
   "execution_count": null,
   "metadata": {},
   "outputs": [],
   "source": []
  },
  {
   "cell_type": "markdown",
   "metadata": {},
   "source": [
    "### Train models use OneCycleLR in Pytorch"
   ]
  },
  {
   "cell_type": "code",
   "execution_count": 43,
   "metadata": {},
   "outputs": [],
   "source": [
    "torch.backends.cudnn.benchmark = True"
   ]
  },
  {
   "cell_type": "code",
   "execution_count": 44,
   "metadata": {},
   "outputs": [],
   "source": [
    "# model = CharRecogModel()\n",
    "model = getNewModel()\n",
    "model = model.cuda()"
   ]
  },
  {
   "cell_type": "code",
   "execution_count": 45,
   "metadata": {},
   "outputs": [],
   "source": [
    "criterion = nn.CrossEntropyLoss()\n",
    "optimizer = optim.SGD(model.parameters(), lr=1E-2, momentum=0.9, weight_decay=1E-4)\n",
    "scheduler = torch.optim.lr_scheduler.OneCycleLR(optimizer, max_lr=0.1, steps_per_epoch=n_iter_one_epoch, epochs=n_epochs)"
   ]
  },
  {
   "cell_type": "code",
   "execution_count": 46,
   "metadata": {},
   "outputs": [],
   "source": [
    "train_loss_hist = []\n",
    "valid_loss_hist = []\n",
    "train_char_acc_hist = []\n",
    "train_ang_acc_hist = []\n",
    "valid_char_acc_hist = []\n",
    "valid_ang_acc_hist = []\n",
    "# correct = 0\n",
    "# total = 0"
   ]
  },
  {
   "cell_type": "code",
   "execution_count": 47,
   "metadata": {},
   "outputs": [
    {
     "name": "stderr",
     "output_type": "stream",
     "text": [
      "100%|██████████| 20/20 [01:16<00:00,  3.84s/it]\n"
     ]
    }
   ],
   "source": [
    "for epoch in tqdm(range(n_epochs)):\n",
    "    train_loss, train_char_acc = trainCharRecog(model, train_dl, optimizer, criterion, scheduler=scheduler)\n",
    "    \n",
    "    \n",
    "    valid_loss, valid_char_acc = evalCharRecog(model, valid_dl, criterion)\n",
    "    \n",
    "    train_loss_hist.append(train_loss)\n",
    "    valid_loss_hist.append(valid_loss)\n",
    "    train_char_acc_hist.append(train_char_acc)\n",
    "    valid_char_acc_hist.append(valid_char_acc)\n",
    "    \n"
   ]
  },
  {
   "cell_type": "code",
   "execution_count": 48,
   "metadata": {},
   "outputs": [
    {
     "data": {
      "text/plain": [
       "<matplotlib.legend.Legend at 0x7fbc48c09250>"
      ]
     },
     "execution_count": 48,
     "metadata": {},
     "output_type": "execute_result"
    },
    {
     "data": {
      "image/png": "[encoded data removed]",
      "text/plain": [
       "<Figure size 432x288 with 1 Axes>"
      ]
     },
     "metadata": {
      "needs_background": "light"
     },
     "output_type": "display_data"
    }
   ],
   "source": [
    "plt.plot(train_loss_hist, label=\"train\")\n",
    "plt.plot(valid_loss_hist, label=\"valid\")\n",
    "plt.legend()"
   ]
  },
  {
   "cell_type": "code",
   "execution_count": 49,
   "metadata": {},
   "outputs": [
    {
     "data": {
      "text/plain": [
       "Text(0, 0.5, 'Acc of Chars')"
      ]
     },
     "execution_count": 49,
     "metadata": {},
     "output_type": "execute_result"
    },
    {
     "data": {
      "image/png": "[encoded data removed]",
      "text/plain": [
       "<Figure size 432x288 with 1 Axes>"
      ]
     },
     "metadata": {
      "needs_background": "light"
     },
     "output_type": "display_data"
    }
   ],
   "source": [
    "plt.plot(train_char_acc_hist, label=\"train\")\n",
    "plt.plot(valid_char_acc_hist, label=\"valid\")\n",
    "plt.legend()\n",
    "plt.xlabel(\"Epochs\")\n",
    "plt.ylabel(\"Acc of Chars\")"
   ]
  },
  {
   "cell_type": "code",
   "execution_count": 50,
   "metadata": {},
   "outputs": [],
   "source": [
    "test_loss, test_acc = evalCharRecog(model, test_dl, criterion)"
   ]
  },
  {
   "cell_type": "code",
   "execution_count": 51,
   "metadata": {},
   "outputs": [
    {
     "data": {
      "text/plain": [
       "0.7412"
      ]
     },
     "execution_count": 51,
     "metadata": {},
     "output_type": "execute_result"
    }
   ],
   "source": [
    "test_acc"
   ]
  },
  {
   "cell_type": "code",
   "execution_count": null,
   "metadata": {},
   "outputs": [],
   "source": []
  },
  {
   "cell_type": "markdown",
   "metadata": {},
   "source": [
    "### Train models use OneCycleLR in Pytorch"
   ]
  },
  {
   "cell_type": "code",
   "execution_count": 52,
   "metadata": {},
   "outputs": [],
   "source": [
    "torch.backends.cudnn.benchmark = True"
   ]
  },
  {
   "cell_type": "code",
   "execution_count": 53,
   "metadata": {},
   "outputs": [],
   "source": [
    "# model = CharRecogModel()\n",
    "model = getNewModel()\n",
    "model = model.cuda()"
   ]
  },
  {
   "cell_type": "code",
   "execution_count": 54,
   "metadata": {},
   "outputs": [],
   "source": [
    "criterion = nn.CrossEntropyLoss()\n",
    "optimizer = optim.SGD(model.parameters(), lr=1E-2, momentum=0.9, weight_decay=1E-4)\n",
    "# scheduler = torch.optim.lr_scheduler.OneCycleLR(optimizer, max_lr=0.1, steps_per_epoch=n_iter_one_epoch, epochs=n_epochs)"
   ]
  },
  {
   "cell_type": "code",
   "execution_count": 55,
   "metadata": {},
   "outputs": [],
   "source": [
    "train_loss_hist = []\n",
    "valid_loss_hist = []\n",
    "train_char_acc_hist = []\n",
    "train_ang_acc_hist = []\n",
    "valid_char_acc_hist = []\n",
    "valid_ang_acc_hist = []\n",
    "# correct = 0\n",
    "# total = 0"
   ]
  },
  {
   "cell_type": "code",
   "execution_count": 56,
   "metadata": {},
   "outputs": [
    {
     "name": "stderr",
     "output_type": "stream",
     "text": [
      "100%|██████████| 20/20 [01:17<00:00,  3.87s/it]\n"
     ]
    }
   ],
   "source": [
    "for epoch in tqdm(range(n_epochs)):\n",
    "    train_loss, train_char_acc = trainCharRecog(model, train_dl, optimizer, criterion)\n",
    "    \n",
    "    \n",
    "    valid_loss, valid_char_acc = evalCharRecog(model, valid_dl, criterion)\n",
    "    \n",
    "    train_loss_hist.append(train_loss)\n",
    "    valid_loss_hist.append(valid_loss)\n",
    "    train_char_acc_hist.append(train_char_acc)\n",
    "    valid_char_acc_hist.append(valid_char_acc)\n",
    "    \n"
   ]
  },
  {
   "cell_type": "code",
   "execution_count": 57,
   "metadata": {},
   "outputs": [
    {
     "data": {
      "text/plain": [
       "<matplotlib.legend.Legend at 0x7fbc71dc3110>"
      ]
     },
     "execution_count": 57,
     "metadata": {},
     "output_type": "execute_result"
    },
    {
     "data": {
      "image/png": "[encoded data removed]",
      "text/plain": [
       "<Figure size 432x288 with 1 Axes>"
      ]
     },
     "metadata": {
      "needs_background": "light"
     },
     "output_type": "display_data"
    }
   ],
   "source": [
    "plt.plot(train_loss_hist, label=\"train\")\n",
    "plt.plot(valid_loss_hist, label=\"valid\")\n",
    "plt.legend()"
   ]
  },
  {
   "cell_type": "code",
   "execution_count": 58,
   "metadata": {},
   "outputs": [
    {
     "data": {
      "text/plain": [
       "Text(0, 0.5, 'Acc of Chars')"
      ]
     },
     "execution_count": 58,
     "metadata": {},
     "output_type": "execute_result"
    },
    {
     "data": {
      "image/png": "[encoded data removed]",
      "text/plain": [
       "<Figure size 432x288 with 1 Axes>"
      ]
     },
     "metadata": {
      "needs_background": "light"
     },
     "output_type": "display_data"
    }
   ],
   "source": [
    "plt.plot(train_char_acc_hist, label=\"train\")\n",
    "plt.plot(valid_char_acc_hist, label=\"valid\")\n",
    "plt.legend()\n",
    "plt.xlabel(\"Epochs\")\n",
    "plt.ylabel(\"Acc of Chars\")"
   ]
  },
  {
   "cell_type": "code",
   "execution_count": 59,
   "metadata": {},
   "outputs": [],
   "source": [
    "test_loss, test_acc = evalCharRecog(model, test_dl, criterion)"
   ]
  },
  {
   "cell_type": "code",
   "execution_count": 60,
   "metadata": {},
   "outputs": [
    {
     "data": {
      "text/plain": [
       "0.6872"
      ]
     },
     "execution_count": 60,
     "metadata": {},
     "output_type": "execute_result"
    }
   ],
   "source": [
    "test_acc"
   ]
  },
  {
   "cell_type": "code",
   "execution_count": null,
   "metadata": {},
   "outputs": [],
   "source": []
  }
 ],
 "metadata": {
  "kernelspec": {
   "display_name": "Python 3",
   "language": "python",
   "name": "python3"
  },
  "language_info": {
   "codemirror_mode": {
    "name": "ipython",
    "version": 3
   },
   "file_extension": ".py",
   "mimetype": "text/x-python",
   "name": "python",
   "nbconvert_exporter": "python",
   "pygments_lexer": "ipython3",
   "version": "3.7.7"
  }
 },
 "nbformat": 4,
 "nbformat_minor": 4
}
