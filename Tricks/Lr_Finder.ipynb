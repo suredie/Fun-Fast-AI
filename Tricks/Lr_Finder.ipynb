{
 "cells": [
  {
   "cell_type": "markdown",
   "metadata": {},
   "source": [
    "- References:\n",
    "    - `lr finding algorithm` in paper [Cyclical Learning Rates for Training Neural Networks](https://arxiv.org/abs/1506.01186).\n",
    "    - `lr_find()` in `Fast AI`. \n",
    "    - [pytorch-lr-finder.git](https://github.com/davidtvs/pytorch-lr-finder)\n",
    "    - [Use optimizer in pytorch with Fast AI Learner]\n",
    "- Take away techs:\n",
    "    - `lr_find()` use naive pytorch & with `FastAI` APIs.\n",
    "    - How to set optimizer's lr without defining a scheduler."
   ]
  },
  {
   "cell_type": "code",
   "execution_count": 1,
   "metadata": {},
   "outputs": [],
   "source": [
    "%matplotlib inline\n",
    "%load_ext autoreload\n",
    "%autoreload 2"
   ]
  },
  {
   "cell_type": "code",
   "execution_count": 2,
   "metadata": {},
   "outputs": [],
   "source": [
    "import torch\n",
    "from torch import nn\n",
    "import torch.optim as optim\n",
    "import torchvision as tv\n",
    "import torchvision.transforms as transforms\n",
    "from torch.utils.data import TensorDataset, DataLoader, Dataset"
   ]
  },
  {
   "cell_type": "code",
   "execution_count": 3,
   "metadata": {},
   "outputs": [],
   "source": [
    "from sklearn.model_selection import train_test_split\n",
    "from tqdm import tqdm\n",
    "from matplotlib import pyplot as plt\n",
    "import numpy as np"
   ]
  },
  {
   "cell_type": "markdown",
   "metadata": {},
   "source": [
    "### Load MNIST Dataset"
   ]
  },
  {
   "cell_type": "code",
   "execution_count": 4,
   "metadata": {},
   "outputs": [],
   "source": [
    "transform = transforms.Compose([transforms.ToTensor()])"
   ]
  },
  {
   "cell_type": "code",
   "execution_count": 5,
   "metadata": {},
   "outputs": [],
   "source": [
    "orig_train_ds = tv.datasets.MNIST(root='data/', train=True, download=True, transform=transform)\n",
    "orig_test_ds = tv.datasets.MNIST(root='data/', train=False, transform=transform)"
   ]
  },
  {
   "cell_type": "code",
   "execution_count": 6,
   "metadata": {},
   "outputs": [],
   "source": [
    "# Split MNIST Dataset into train and valid\n",
    "train_x, valid_x, train_y, valid_y = train_test_split(orig_train_ds.data.unsqueeze(1).float(), orig_train_ds.targets, test_size=0.1)"
   ]
  },
  {
   "cell_type": "code",
   "execution_count": 7,
   "metadata": {},
   "outputs": [],
   "source": [
    "train_ds = TensorDataset(train_x, train_y)\n",
    "valid_ds = TensorDataset(valid_x, valid_y)\n",
    "test_ds  = TensorDataset(orig_test_ds.data.unsqueeze(1).float(), orig_test_ds.targets)"
   ]
  },
  {
   "cell_type": "code",
   "execution_count": 8,
   "metadata": {},
   "outputs": [],
   "source": [
    "# Wrap dataset into dataloader\n",
    "bs = 128\n",
    "train_dl = DataLoader(dataset=train_ds, batch_size=bs, shuffle=True, num_workers=8)\n",
    "valid_dl = DataLoader(dataset=valid_ds, batch_size=bs, shuffle=False, num_workers=8)\n",
    "test_dl  = DataLoader(dataset=test_ds,  batch_size=bs, shuffle=False, num_workers=8)"
   ]
  },
  {
   "cell_type": "markdown",
   "metadata": {},
   "source": [
    "### Define model"
   ]
  },
  {
   "cell_type": "code",
   "execution_count": 9,
   "metadata": {},
   "outputs": [],
   "source": [
    "class Flatten(nn.Module):\n",
    "    def __init__(self): super().__init__()\n",
    "    def forward(self, x): return x.view(x.size(0), -1)"
   ]
  },
  {
   "cell_type": "code",
   "execution_count": 10,
   "metadata": {},
   "outputs": [],
   "source": [
    "def getNewModel():\n",
    "    return nn.Sequential(\n",
    "        nn.Conv2d(1, 32, kernel_size=5, stride=2, padding=2, bias=False),\n",
    "        nn.BatchNorm2d(32),\n",
    "        nn.ReLU(),\n",
    "        nn.MaxPool2d(kernel_size=3, stride=2, padding=1),\n",
    "\n",
    "        nn.Conv2d(32, 64, kernel_size=3, stride=2, padding=1, bias=False),\n",
    "        nn.BatchNorm2d(64),\n",
    "        nn.ReLU(),\n",
    "\n",
    "        nn.Conv2d(64, 128, kernel_size=3, stride=2, padding=1, bias=False),\n",
    "        nn.BatchNorm2d(128),\n",
    "        nn.ReLU(),\n",
    "\n",
    "        nn.AdaptiveAvgPool2d((1,1)),\n",
    "        Flatten(),\n",
    "        nn.Linear(in_features=128, out_features=32),\n",
    "        nn.ReLU(),\n",
    "        nn.Dropout(p=0.2),\n",
    "\n",
    "        nn.Linear(32, 10),\n",
    "    )"
   ]
  },
  {
   "cell_type": "markdown",
   "metadata": {},
   "source": [
    "### Train models in regular manner"
   ]
  },
  {
   "cell_type": "code",
   "execution_count": 11,
   "metadata": {},
   "outputs": [],
   "source": [
    "def trainCharRecog(model, train_loader, optimizer, criterion):\n",
    "    model.train()\n",
    "    train_loss = 0.\n",
    "    total = 0.\n",
    "    char_correct = 0.\n",
    "    ang_correct = 0.\n",
    "    for batch_idx, (imgs, tchar) in enumerate(train_loader):\n",
    "        imgs, tchar = imgs.cuda(), tchar.cuda()\n",
    "        schar = model(imgs)\n",
    "        loss = criterion(schar, tchar)\n",
    "        optimizer.zero_grad()\n",
    "        loss.backward()\n",
    "        optimizer.step()\n",
    "        train_loss += loss.item()\n",
    "        \n",
    "        _, char_predict = torch.max(schar.data,1)\n",
    "        \n",
    "        total += tchar.size(0)\n",
    "        char_correct += char_predict.eq(tchar.data).cpu().sum().item()\n",
    "        \n",
    "    return train_loss/batch_idx, char_correct/total"
   ]
  },
  {
   "cell_type": "code",
   "execution_count": 12,
   "metadata": {},
   "outputs": [],
   "source": [
    "def evalCharRecog(model, test_loader, criterion):\n",
    "    model.eval()\n",
    "    valid_loss = 0.\n",
    "    total = 0.\n",
    "    char_correct = 0.\n",
    "    ang_correct = 0.\n",
    "    with torch.no_grad():\n",
    "        for batch_idx, (imgs, tchar) in enumerate(test_loader):\n",
    "            imgs, tchar = imgs.cuda(), tchar.cuda()\n",
    "            schar = model(imgs)\n",
    "            loss = criterion(schar, tchar)\n",
    "            valid_loss += loss.item()\n",
    "\n",
    "            _, char_predict = torch.max(schar.data,1)\n",
    "            total += tchar.size(0)\n",
    "            char_correct += char_predict.eq(tchar.data).cpu().sum().item()\n",
    "    return valid_loss/batch_idx, char_correct/total"
   ]
  },
  {
   "cell_type": "code",
   "execution_count": 13,
   "metadata": {},
   "outputs": [],
   "source": [
    "torch.backends.cudnn.benchmark = True"
   ]
  },
  {
   "cell_type": "code",
   "execution_count": 14,
   "metadata": {},
   "outputs": [],
   "source": [
    "# model = CharRecogModel()\n",
    "model = getNewModel()\n",
    "model = model.cuda()"
   ]
  },
  {
   "cell_type": "code",
   "execution_count": 15,
   "metadata": {},
   "outputs": [],
   "source": [
    "criterion = nn.CrossEntropyLoss()\n",
    "optimizer = optim.SGD(model.parameters(), lr=1E-2, momentum=0.9, weight_decay=1E-4)"
   ]
  },
  {
   "cell_type": "code",
   "execution_count": 16,
   "metadata": {},
   "outputs": [],
   "source": [
    "train_loss_hist = []\n",
    "valid_loss_hist = []\n",
    "train_char_acc_hist = []\n",
    "train_ang_acc_hist = []\n",
    "valid_char_acc_hist = []\n",
    "valid_ang_acc_hist = []\n",
    "# correct = 0\n",
    "# total = 0"
   ]
  },
  {
   "cell_type": "code",
   "execution_count": 17,
   "metadata": {},
   "outputs": [
    {
     "name": "stderr",
     "output_type": "stream",
     "text": [
      "100%|██████████| 100/100 [06:37<00:00,  3.97s/it]\n"
     ]
    }
   ],
   "source": [
    "for epoch in tqdm(range(100)):\n",
    "    train_loss, train_char_acc = trainCharRecog(model, train_dl, optimizer, criterion)\n",
    "    \n",
    "    \n",
    "    valid_loss, valid_char_acc = evalCharRecog(model, valid_dl, criterion)\n",
    "    \n",
    "    train_loss_hist.append(train_loss)\n",
    "    valid_loss_hist.append(valid_loss)\n",
    "    train_char_acc_hist.append(train_char_acc)\n",
    "    valid_char_acc_hist.append(valid_char_acc)\n",
    "    \n"
   ]
  },
  {
   "cell_type": "code",
   "execution_count": 18,
   "metadata": {},
   "outputs": [
    {
     "data": {
      "text/plain": [
       "<matplotlib.legend.Legend at 0x7fedae7fcbd0>"
      ]
     },
     "execution_count": 18,
     "metadata": {},
     "output_type": "execute_result"
    },
    {
     "data": {
      "image/png": "[encoded data removed]",
      "text/plain": [
       "<Figure size 432x288 with 1 Axes>"
      ]
     },
     "metadata": {
      "needs_background": "light"
     },
     "output_type": "display_data"
    }
   ],
   "source": [
    "plt.plot(train_loss_hist, label=\"train\")\n",
    "plt.plot(valid_loss_hist, label=\"valid\")\n",
    "plt.legend()"
   ]
  },
  {
   "cell_type": "code",
   "execution_count": 19,
   "metadata": {},
   "outputs": [
    {
     "data": {
      "text/plain": [
       "Text(0, 0.5, 'Acc of Chars')"
      ]
     },
     "execution_count": 19,
     "metadata": {},
     "output_type": "execute_result"
    },
    {
     "data": {
      "image/png": "[encoded data removed]",
      "text/plain": [
       "<Figure size 432x288 with 1 Axes>"
      ]
     },
     "metadata": {
      "needs_background": "light"
     },
     "output_type": "display_data"
    }
   ],
   "source": [
    "plt.plot(train_char_acc_hist, label=\"train\")\n",
    "plt.plot(valid_char_acc_hist, label=\"valid\")\n",
    "plt.legend()\n",
    "plt.xlabel(\"Epochs\")\n",
    "plt.ylabel(\"Acc of Chars\")"
   ]
  },
  {
   "cell_type": "code",
   "execution_count": 20,
   "metadata": {},
   "outputs": [],
   "source": [
    "test_loss, test_acc = evalCharRecog(model, test_dl, criterion)"
   ]
  },
  {
   "cell_type": "code",
   "execution_count": 21,
   "metadata": {},
   "outputs": [
    {
     "data": {
      "text/plain": [
       "0.9915"
      ]
     },
     "execution_count": 21,
     "metadata": {},
     "output_type": "execute_result"
    }
   ],
   "source": [
    "test_acc"
   ]
  },
  {
   "cell_type": "markdown",
   "metadata": {},
   "source": [
    "### LR Finder Implementation \n",
    "\n",
    "- Steps:\n",
    "    - 1. Increase lr exponentially to generate the testing range.\n",
    "    - 2. Update model using different lr, and record the batch loss.\n",
    "    - 4. Smooth the loss.\n",
    "    - 3. Find the optimal lr:\n",
    "        - Choose the value that is 10 times smaller than the value of lr when the smallest batch loss is achived.\n",
    "        - Choose the value when the loss decreases the most quickly.\n",
    "    - 4. Restore the model with the initialized parameters."
   ]
  },
  {
   "cell_type": "code",
   "execution_count": 22,
   "metadata": {},
   "outputs": [],
   "source": [
    "model = getNewModel()\n",
    "model = model.cuda()"
   ]
  },
  {
   "cell_type": "code",
   "execution_count": 23,
   "metadata": {},
   "outputs": [],
   "source": [
    "torch.save(model.state_dict(), \"_tmp.pth\")"
   ]
  },
  {
   "cell_type": "code",
   "execution_count": 24,
   "metadata": {},
   "outputs": [],
   "source": [
    "lr_high = 10\n",
    "lr_low  = 1E-7\n",
    "num_it = 100\n",
    "loss_hist = []"
   ]
  },
  {
   "cell_type": "code",
   "execution_count": null,
   "metadata": {},
   "outputs": [],
   "source": [
    "lr_list = [lr_low*(lr_high/lr_low)**(i/num_it) for i in range(num_it+1)]"
   ]
  },
  {
   "cell_type": "code",
   "execution_count": 26,
   "metadata": {},
   "outputs": [],
   "source": [
    "criterion = nn.CrossEntropyLoss()\n",
    "optimizer = optim.SGD(model.parameters(), lr=1E-2, momentum=0.9, weight_decay=1E-4)"
   ]
  },
  {
   "cell_type": "code",
   "execution_count": 27,
   "metadata": {},
   "outputs": [],
   "source": [
    "def setLrForOpt(opt, lr):\n",
    "    for param in opt.param_groups:\n",
    "        param[\"lr\"] = lr"
   ]
  },
  {
   "cell_type": "code",
   "execution_count": 28,
   "metadata": {},
   "outputs": [],
   "source": [
    "cnt = 0\n",
    "for epoch in range(num_it):\n",
    "    if cnt>num_it: break\n",
    "    for imgs, tchar in train_dl:\n",
    "        if cnt>num_it: break\n",
    "        setLrForOpt(optimizer, lr_list[cnt])\n",
    "        imgs, tchar = imgs.cuda(), tchar.cuda()\n",
    "        schar = model(imgs)\n",
    "        loss = criterion(schar, tchar)\n",
    "        optimizer.zero_grad()\n",
    "        loss.backward()\n",
    "        optimizer.step()\n",
    "        loss_hist.append(loss.item())\n",
    "    \n",
    "        cnt += 1\n",
    "    \n",
    "        "
   ]
  },
  {
   "cell_type": "code",
   "execution_count": 29,
   "metadata": {},
   "outputs": [],
   "source": [
    "beta = 0.95\n",
    "avg_loss = 0.\n",
    "avg_loss_hist = []\n",
    "scale_factor = 1.\n",
    "best_loss = np.inf\n",
    "for i, loss in enumerate(loss_hist):\n",
    "    if i==0: avg_loss = loss\n",
    "    else:\n",
    "        avg_loss = (1-beta)*loss+(beta)*avg_loss\n",
    "    if avg_loss<best_loss: best_loss=avg_loss\n",
    "    if avg_loss>4*best_loss: break\n",
    "    scale_factor *= beta\n",
    "#     avg_loss = avg_loss/(scale_factor)\n",
    "    avg_loss_hist.append(avg_loss)\n",
    "    "
   ]
  },
  {
   "cell_type": "code",
   "execution_count": 57,
   "metadata": {},
   "outputs": [],
   "source": [
    "skip_beg = 10\n",
    "skip_end = 5"
   ]
  },
  {
   "cell_type": "code",
   "execution_count": 58,
   "metadata": {},
   "outputs": [],
   "source": [
    "avg_loss_eff_hist = avg_loss_hist[skip_beg:-skip_end]\n",
    "lr_eff_hist = lr_list[:len(avg_loss_hist)]\n",
    "lr_eff_hist = lr_eff_hist[skip_beg:-skip_end]"
   ]
  },
  {
   "cell_type": "code",
   "execution_count": 59,
   "metadata": {},
   "outputs": [
    {
     "data": {
      "image/png": "[encoded data removed]",
      "text/plain": [
       "<Figure size 432x288 with 1 Axes>"
      ]
     },
     "metadata": {
      "needs_background": "light"
     },
     "output_type": "display_data"
    }
   ],
   "source": [
    "plt.plot(lr_eff_hist, avg_loss_eff_hist)\n",
    "plt.xscale(\"log\")"
   ]
  },
  {
   "cell_type": "code",
   "execution_count": 65,
   "metadata": {},
   "outputs": [
    {
     "name": "stdout",
     "output_type": "stream",
     "text": [
      "Suggested lr by min: 0.07585775750291836\n",
      "Suggested lr by min: 0.25118864315095824\n"
     ]
    }
   ],
   "source": [
    "print(f\"Suggested lr by min: {lr_eff_hist[np.argmin(avg_loss_eff_hist)]/10}\")\n",
    "print(f\"Suggested lr by min: {lr_eff_hist[np.argmin(np.gradient(avg_loss_eff_hist))]}\")"
   ]
  },
  {
   "cell_type": "code",
   "execution_count": 48,
   "metadata": {},
   "outputs": [
    {
     "data": {
      "text/plain": [
       "<All keys matched successfully>"
      ]
     },
     "execution_count": 48,
     "metadata": {},
     "output_type": "execute_result"
    }
   ],
   "source": [
    "# Load the initial parameters\n",
    "model.load_state_dict(torch.load(\"_tmp.pth\"))"
   ]
  },
  {
   "cell_type": "markdown",
   "metadata": {},
   "source": [
    "#### Train Models in Fast AI Manner"
   ]
  },
  {
   "cell_type": "code",
   "execution_count": 49,
   "metadata": {},
   "outputs": [],
   "source": [
    "import os\n",
    "import sys\n",
    "sys.path.append(os.environ.get(\"FASTAI_PATH\"))"
   ]
  },
  {
   "cell_type": "code",
   "execution_count": 50,
   "metadata": {},
   "outputs": [],
   "source": [
    "import torch.nn.functional as F"
   ]
  },
  {
   "cell_type": "code",
   "execution_count": 51,
   "metadata": {},
   "outputs": [],
   "source": [
    "from fastai.vision import *\n",
    "from fastai.data.core import DataLoaders\n",
    "from fastai.vision.all import *"
   ]
  },
  {
   "cell_type": "code",
   "execution_count": 52,
   "metadata": {},
   "outputs": [],
   "source": [
    "data = DataLoaders.from_dsets(train_ds, valid_ds).cuda()"
   ]
  },
  {
   "cell_type": "code",
   "execution_count": 53,
   "metadata": {},
   "outputs": [],
   "source": [
    "model_fastai = getNewModel()\n",
    "criterion = nn.CrossEntropyLoss()"
   ]
  },
  {
   "cell_type": "code",
   "execution_count": 54,
   "metadata": {},
   "outputs": [],
   "source": [
    "def opt_func(ps, lr): return OptimWrapper(optim.SGD(ps, lr=lr, momentum=0.9, weight_decay=1E-4))"
   ]
  },
  {
   "cell_type": "code",
   "execution_count": 55,
   "metadata": {},
   "outputs": [],
   "source": [
    "learn = Learner(data, model_fastai, loss_func=criterion, opt_func=opt_func, metrics=accuracy) #F.cross_entropy"
   ]
  },
  {
   "cell_type": "code",
   "execution_count": 56,
   "metadata": {},
   "outputs": [
    {
     "data": {
      "text/html": [],
      "text/plain": [
       "<IPython.core.display.HTML object>"
      ]
     },
     "metadata": {},
     "output_type": "display_data"
    },
    {
     "data": {
      "text/plain": [
       "SuggestedLRs(lr_min=0.13182567358016967, lr_steep=0.2089296132326126)"
      ]
     },
     "execution_count": 56,
     "metadata": {},
     "output_type": "execute_result"
    },
    {
     "data": {
      "image/png": "[encoded data removed]",
      "text/plain": [
       "<Figure size 432x288 with 1 Axes>"
      ]
     },
     "metadata": {
      "needs_background": "light"
     },
     "output_type": "display_data"
    }
   ],
   "source": [
    "learn.lr_find()"
   ]
  },
  {
   "cell_type": "code",
   "execution_count": 42,
   "metadata": {},
   "outputs": [
    {
     "data": {
      "text/html": [
       "<table border=\"1\" class=\"dataframe\">\n",
       "  <thead>\n",
       "    <tr style=\"text-align: left;\">\n",
       "      <th>epoch</th>\n",
       "      <th>train_loss</th>\n",
       "      <th>valid_loss</th>\n",
       "      <th>accuracy</th>\n",
       "      <th>time</th>\n",
       "    </tr>\n",
       "  </thead>\n",
       "  <tbody>\n",
       "    <tr>\n",
       "      <td>0</td>\n",
       "      <td>0.136161</td>\n",
       "      <td>0.133188</td>\n",
       "      <td>0.958000</td>\n",
       "      <td>00:12</td>\n",
       "    </tr>\n",
       "    <tr>\n",
       "      <td>1</td>\n",
       "      <td>0.079643</td>\n",
       "      <td>0.058287</td>\n",
       "      <td>0.982167</td>\n",
       "      <td>00:11</td>\n",
       "    </tr>\n",
       "    <tr>\n",
       "      <td>2</td>\n",
       "      <td>0.068184</td>\n",
       "      <td>0.045354</td>\n",
       "      <td>0.986167</td>\n",
       "      <td>00:10</td>\n",
       "    </tr>\n",
       "    <tr>\n",
       "      <td>3</td>\n",
       "      <td>0.040188</td>\n",
       "      <td>0.040304</td>\n",
       "      <td>0.988333</td>\n",
       "      <td>00:11</td>\n",
       "    </tr>\n",
       "    <tr>\n",
       "      <td>4</td>\n",
       "      <td>0.041877</td>\n",
       "      <td>0.043317</td>\n",
       "      <td>0.987667</td>\n",
       "      <td>00:11</td>\n",
       "    </tr>\n",
       "    <tr>\n",
       "      <td>5</td>\n",
       "      <td>0.039987</td>\n",
       "      <td>0.035731</td>\n",
       "      <td>0.990000</td>\n",
       "      <td>00:11</td>\n",
       "    </tr>\n",
       "    <tr>\n",
       "      <td>6</td>\n",
       "      <td>0.029135</td>\n",
       "      <td>0.031449</td>\n",
       "      <td>0.991167</td>\n",
       "      <td>00:12</td>\n",
       "    </tr>\n",
       "    <tr>\n",
       "      <td>7</td>\n",
       "      <td>0.015412</td>\n",
       "      <td>0.028611</td>\n",
       "      <td>0.992000</td>\n",
       "      <td>00:10</td>\n",
       "    </tr>\n",
       "    <tr>\n",
       "      <td>8</td>\n",
       "      <td>0.013187</td>\n",
       "      <td>0.027435</td>\n",
       "      <td>0.993000</td>\n",
       "      <td>00:12</td>\n",
       "    </tr>\n",
       "    <tr>\n",
       "      <td>9</td>\n",
       "      <td>0.010075</td>\n",
       "      <td>0.027611</td>\n",
       "      <td>0.992833</td>\n",
       "      <td>00:11</td>\n",
       "    </tr>\n",
       "  </tbody>\n",
       "</table>"
      ],
      "text/plain": [
       "<IPython.core.display.HTML object>"
      ]
     },
     "metadata": {},
     "output_type": "display_data"
    }
   ],
   "source": [
    "learn.fit_one_cycle(10, 0.03)"
   ]
  },
  {
   "cell_type": "code",
   "execution_count": 43,
   "metadata": {},
   "outputs": [],
   "source": [
    "test_loss, test_acc = evalCharRecog(model_fastai, test_dl, criterion)"
   ]
  },
  {
   "cell_type": "code",
   "execution_count": 44,
   "metadata": {},
   "outputs": [
    {
     "data": {
      "text/plain": [
       "0.993"
      ]
     },
     "execution_count": 44,
     "metadata": {},
     "output_type": "execute_result"
    }
   ],
   "source": [
    "test_acc"
   ]
  },
  {
   "cell_type": "code",
   "execution_count": null,
   "metadata": {},
   "outputs": [],
   "source": []
  },
  {
   "cell_type": "markdown",
   "metadata": {},
   "source": [
    "#### Quick & Dirty Test Code"
   ]
  },
  {
   "cell_type": "code",
   "execution_count": 41,
   "metadata": {},
   "outputs": [],
   "source": [
    "scheds = SchedExp(1E-7, 10)"
   ]
  },
  {
   "cell_type": "code",
   "execution_count": 45,
   "metadata": {},
   "outputs": [
    {
     "data": {
      "text/plain": [
       "tensor(0.0085)"
      ]
     },
     "execution_count": 45,
     "metadata": {},
     "output_type": "execute_result"
    }
   ],
   "source": [
    "learn.smooth_loss"
   ]
  },
  {
   "cell_type": "code",
   "execution_count": 46,
   "metadata": {},
   "outputs": [],
   "source": [
    "cb=LRFinder(start_lr=1E-7, end_lr=10, num_it=100, stop_div=True)"
   ]
  },
  {
   "cell_type": "code",
   "execution_count": 48,
   "metadata": {},
   "outputs": [
    {
     "data": {
      "text/plain": [
       "{'lr': <fastai.callback.schedule._Annealer at 0x7f12cc132e50>}"
      ]
     },
     "execution_count": 48,
     "metadata": {},
     "output_type": "execute_result"
    }
   ],
   "source": [
    "cb.scheds"
   ]
  },
  {
   "cell_type": "code",
   "execution_count": 63,
   "metadata": {},
   "outputs": [
    {
     "data": {
      "text/plain": [
       "3.018509358403143e-07"
      ]
     },
     "execution_count": 63,
     "metadata": {},
     "output_type": "execute_result"
    }
   ],
   "source": [
    "learn.opt.param_groups[0][\"lr\"]"
   ]
  },
  {
   "cell_type": "code",
   "execution_count": 53,
   "metadata": {},
   "outputs": [],
   "source": [
    "??learn.opt"
   ]
  },
  {
   "cell_type": "code",
   "execution_count": 68,
   "metadata": {},
   "outputs": [
    {
     "data": {
      "text/plain": [
       "[<matplotlib.lines.Line2D at 0x7f12c46b49d0>]"
      ]
     },
     "execution_count": 68,
     "metadata": {},
     "output_type": "execute_result"
    },
    {
     "data": {
      "image/png": "[encoded data removed]",
      "text/plain": [
       "<Figure size 432x288 with 1 Axes>"
      ]
     },
     "metadata": {
      "needs_background": "light"
     },
     "output_type": "display_data"
    }
   ],
   "source": [
    "plt.plot(learn.recorder.lrs)"
   ]
  },
  {
   "cell_type": "code",
   "execution_count": null,
   "metadata": {},
   "outputs": [],
   "source": []
  }
 ],
 "metadata": {
  "kernelspec": {
   "display_name": "Python 3",
   "language": "python",
   "name": "python3"
  },
  "language_info": {
   "codemirror_mode": {
    "name": "ipython",
    "version": 3
   },
   "file_extension": ".py",
   "mimetype": "text/x-python",
   "name": "python",
   "nbconvert_exporter": "python",
   "pygments_lexer": "ipython3",
   "version": "3.7.7"
  }
 },
 "nbformat": 4,
 "nbformat_minor": 4
}
